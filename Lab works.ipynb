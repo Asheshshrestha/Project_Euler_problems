{
 "cells": [
  {
   "cell_type": "code",
   "execution_count": 4,
   "metadata": {},
   "outputs": [
    {
     "name": "stdout",
     "output_type": "stream",
     "text": [
      "True\n"
     ]
    }
   ],
   "source": [
    "hasBook = True\n",
    "hasBoy =False \n",
    "goSchool= True\n",
    "print((hasBook or hasBoy) and (goSchool))"
   ]
  },
  {
   "cell_type": "code",
   "execution_count": 6,
   "metadata": {},
   "outputs": [
    {
     "name": "stdout",
     "output_type": "stream",
     "text": [
      "False\n"
     ]
    }
   ],
   "source": [
    "a=True\n",
    "print(not a)"
   ]
  },
  {
   "cell_type": "code",
   "execution_count": 7,
   "metadata": {},
   "outputs": [
    {
     "name": "stdout",
     "output_type": "stream",
     "text": [
      "False\n",
      "True\n",
      "True\n",
      "True\n",
      "True\n",
      "False\n"
     ]
    }
   ],
   "source": [
    "a=10\n",
    "c=10\n",
    "b=20\n",
    "print(a>b)\n",
    "print(a<b)\n",
    "print(a>=c)\n",
    "print(a<=c)\n",
    "print(a!=b)\n",
    "print(a==b)\n"
   ]
  },
  {
   "cell_type": "code",
   "execution_count": 8,
   "metadata": {},
   "outputs": [
    {
     "name": "stdout",
     "output_type": "stream",
     "text": [
      "30\n",
      "-10\n",
      "3000\n",
      "0.8571428571428571\n"
     ]
    }
   ],
   "source": [
    "#assign\n",
    "a=10\n",
    "b=20\n",
    "c=30\n",
    "d=40\n",
    "e=50\n",
    "f=60\n",
    "g=70\n",
    "h=80\n",
    "\n",
    "a+=b #a=a+b\n",
    "print(a)\n",
    "c-=d #c=c-d\n",
    "print(c)\n",
    "e*=f #e=e*f\n",
    "print(e)\n",
    "f/=g  #f=f/g\n",
    "print(f)"
   ]
  },
  {
   "cell_type": "code",
   "execution_count": 10,
   "metadata": {},
   "outputs": [
    {
     "name": "stdout",
     "output_type": "stream",
     "text": [
      "Even number\n"
     ]
    }
   ],
   "source": [
    "#simple if else condition\n",
    "\n",
    "b=10\n",
    "if((b%2)==0):\n",
    "    print(\"Even number\")\n",
    "else:\n",
    "    print(\"Not Even\")\n",
    "    \n"
   ]
  },
  {
   "cell_type": "code",
   "execution_count": null,
   "metadata": {},
   "outputs": [],
   "source": [
    "#division display program\n",
    "p=float(input(\"Enter you percentage:\"))\n",
    "if p>=80:\n",
    "    print(\"Distinction\")\n",
    "elif p>=60:\n",
    "    print(\"First divison\")\n",
    "elif p>=45:\n",
    "    print(\"Second division\")\n",
    "elif p>=32:\n",
    "    print(\"Third Division\")\n",
    "else:\n",
    "    print(\"Fail\")\n",
    "    "
   ]
  },
  {
   "cell_type": "code",
   "execution_count": null,
   "metadata": {},
   "outputs": [],
   "source": [
    "t=int(input(\"Enter the time:\"))\n",
    "if t>6 and t<12:\n",
    "    print(\"Good Morning\")\n",
    "elif t>=12 and t<18:\n",
    "    print(\"Good evening\")\n",
    "elif t>=18 and t<24:\n",
    "    print(\"Good Night\")\n",
    "else:\n",
    "    print(\"invlid time\")"
   ]
  },
  {
   "cell_type": "code",
   "execution_count": null,
   "metadata": {},
   "outputs": [],
   "source": [
    "#salary%%=\n",
    "#350000> 1%\n",
    "#350000 and < 400000 -> 13%\n",
    "# 400000> -> 25%\n",
    "'''if person earn->60000 per month. How much he have to pay annual tax? '''"
   ]
  },
  {
   "cell_type": "code",
   "execution_count": null,
   "metadata": {},
   "outputs": [],
   "source": [
    "salary=float(input(\"Enter your Monthly Salary:Rs\"))\n",
    "salary*=12;\n",
    "\n",
    "\n",
    "if salary<=350000:\n",
    "    tax=(1/100)*salary\n",
    "    print(\"Tax Amount:Rs \"+str(tax))\n",
    "\n",
    "elif salary>350000 and salary<=400000:\n",
    "    tax1=(1/100)*350000\n",
    "    salary-=350000\n",
    "    tax2=(13/100)*salary\n",
    "    print(\"Tax Amount:Rs \"+str(tax1+tax2))\n",
    "\n",
    "else:\n",
    "    tax1=(1/100)*350000\n",
    "    salary-=350000\n",
    "    \n",
    "    tax2=(13/100)*50000\n",
    "    salary-=50000\n",
    "    \n",
    "    tax3=(25/100)*salary\n",
    "    print(\"Tax Amount:Rs \"+str(tax1+tax2+tax3))\n"
   ]
  },
  {
   "cell_type": "code",
   "execution_count": 1,
   "metadata": {},
   "outputs": [
    {
     "name": "stdin",
     "output_type": "stream",
     "text": [
      "Enter the unit: 120\n"
     ]
    },
    {
     "name": "stdout",
     "output_type": "stream",
     "text": [
      "Charge Amount: 800.0\n"
     ]
    }
   ],
   "source": [
    "#Electric Bill calculator------------------------------------------------------\n",
    "unit=float(input(\"Enter the unit:\"))\n",
    "if unit<=20:\n",
    "    charge=80\n",
    "    print(\"Charge Amount \"+str(charge1))\n",
    "\n",
    "elif unit>20 and unit<=100:\n",
    "    charge1=80\n",
    "    unit-=20\n",
    "    charge2=unit*8\n",
    "    \n",
    "    print(\"Charge Amount \"+str(charge1+charge2))\n",
    "\n",
    "else:\n",
    "    charge1=80\n",
    "    charge2=640\n",
    "    unit-=100\n",
    "    charge3=unit*4\n",
    "   \n",
    "    print(\"Charge Amount: \"+str(charge1+charge2+charge3))\n"
   ]
  },
  {
   "cell_type": "code",
   "execution_count": 2,
   "metadata": {},
   "outputs": [
    {
     "name": "stdout",
     "output_type": "stream",
     "text": [
      "0\n",
      "1\n",
      "2\n",
      "3\n",
      "4\n"
     ]
    }
   ],
   "source": [
    "#for loop ------------------------------------------------\n",
    "#syntax-----------------------------------------------------------------------\n",
    "for i in range(5):             #in default start with index zero-----------------------------------\n",
    "    print(i)"
   ]
  },
  {
   "cell_type": "code",
   "execution_count": 4,
   "metadata": {},
   "outputs": [
    {
     "name": "stdout",
     "output_type": "stream",
     "text": [
      "3\n",
      "4\n",
      "5\n",
      "6\n",
      "7\n",
      "8\n"
     ]
    }
   ],
   "source": [
    "for i in range(3,9):\n",
    "    print(i)"
   ]
  },
  {
   "cell_type": "code",
   "execution_count": 9,
   "metadata": {},
   "outputs": [
    {
     "name": "stdout",
     "output_type": "stream",
     "text": [
      "11\n",
      "9\n",
      "7\n",
      "5\n",
      "3\n",
      "loop finished\n"
     ]
    }
   ],
   "source": [
    "for i in range(11,2,-2):\n",
    "    print(i)\n",
    "else:\n",
    "    print(\"loop finished\")"
   ]
  },
  {
   "cell_type": "code",
   "execution_count": null,
   "metadata": {},
   "outputs": [],
   "source": [
    "i=int(input(\"Starting:\"))\n",
    "n=int(input(\"Ending:\"))\n",
    "\n",
    "c=int(input(\"1.Odd\\n2.Even\"))\n",
    "\n",
    "if c==2:  \n",
    "    while(i<=n):\n",
    "        if(i%2==0):\n",
    "            print(str(i))\n",
    "        i+=1\n",
    "elif c==1:\n",
    "    while(i<=n):\n",
    "        if(i%2!=0):\n",
    "            print(str(i))\n",
    "        i+=1\n",
    "else:\n",
    "    print(\"Enter 1 or 2 only:::\")\n",
    "    \n"
   ]
  },
  {
   "cell_type": "code",
   "execution_count": 24,
   "metadata": {},
   "outputs": [
    {
     "name": "stdout",
     "output_type": "stream",
     "text": [
      "0\n",
      "4\n",
      "8\n",
      "12\n",
      "16\n",
      "20\n",
      "24\n",
      "28\n",
      "32\n",
      "36\n",
      "40\n",
      "44\n",
      "48\n"
     ]
    }
   ],
   "source": [
    "for i in range(0,50,4):\n",
    "    if i==30:\n",
    "        break;\n",
    "    print(i)\n",
    "    \n",
    "    "
   ]
  },
  {
   "cell_type": "code",
   "execution_count": 1,
   "metadata": {},
   "outputs": [
    {
     "name": "stdin",
     "output_type": "stream",
     "text": [
      "Enter the number: 1564\n"
     ]
    },
    {
     "name": "stdout",
     "output_type": "stream",
     "text": [
      "1\n",
      "5\n",
      "6\n",
      "4\n"
     ]
    }
   ],
   "source": [
    "#Print number 1234 as \n",
    "#1   \n",
    "#2   \n",
    "#3\n",
    "#4zz\n",
    "n=int(input(\"Enter the number:\"))\n",
    "rev=0\n",
    "while n>0:\n",
    "    r=n%10\n",
    "    rev=rev*10 +r\n",
    "    n//=10\n",
    "\n",
    "while rev>0:\n",
    "    x=rev%10\n",
    "    rev//=10\n",
    "    print(x)\n",
    "    "
   ]
  },
  {
   "cell_type": "code",
   "execution_count": null,
   "metadata": {},
   "outputs": [],
   "source": [
    "\n",
    "#check whether any input number is prime or not\n"
   ]
  },
  {
   "cell_type": "code",
   "execution_count": 3,
   "metadata": {},
   "outputs": [
    {
     "name": "stdin",
     "output_type": "stream",
     "text": [
      "Enter any number: 1234\n"
     ]
    },
    {
     "name": "stdout",
     "output_type": "stream",
     "text": [
      "Number is not Palindrome\n"
     ]
    }
   ],
   "source": [
    "#check palindrome or not\n",
    "n=int(input(\"Enter any number:\"))\n",
    "org=n\n",
    "rev=0\n",
    "while n>0:\n",
    "    r=n%10\n",
    "    rev=rev*10 +r\n",
    "    n//=10\n",
    "    \n",
    "if rev==org:\n",
    "    print(\"Number is palindrome\")\n",
    "else:\n",
    "    print(\"Number is not Palindrome\")\n",
    "    "
   ]
  },
  {
   "cell_type": "code",
   "execution_count": 6,
   "metadata": {},
   "outputs": [
    {
     "name": "stdin",
     "output_type": "stream",
     "text": [
      "Enter any number: 16\n"
     ]
    },
    {
     "name": "stdout",
     "output_type": "stream",
     "text": [
      "Number is not prime\n"
     ]
    }
   ],
   "source": [
    "#check whether any input number is prime or not\n",
    "\n",
    "n=int(input(\"Enter any number:\"))\n",
    "c=0\n",
    "for i in range(1,n+1):\n",
    "    \n",
    "    if n%i==0:\n",
    "        c+=1\n",
    "        \n",
    "if c==2:\n",
    "    print(\"Number is prime\")\n",
    "else:\n",
    "    print(\"Number is not prime\")"
   ]
  },
  {
   "cell_type": "code",
   "execution_count": 6,
   "metadata": {},
   "outputs": [
    {
     "name": "stdin",
     "output_type": "stream",
     "text": [
      "Enter any number: 15\n"
     ]
    }
   ],
   "source": [
    "\n",
    "x=int(input(\"Enter any number:\"))\n",
    "c=0\n",
    "for i in range(1,x+1):\n",
    "    for j in range(1,i+1):\n",
    "    \n",
    "        if i%j==0:\n",
    "            c+=1\n",
    "        \n",
    "    if c==2:\n",
    "        print(i)\n",
    "  "
   ]
  },
  {
   "cell_type": "markdown",
   "metadata": {},
   "source": [
    "# "
   ]
  },
  {
   "cell_type": "code",
   "execution_count": 10,
   "metadata": {},
   "outputs": [
    {
     "name": "stdout",
     "output_type": "stream",
     "text": [
      "233168\n"
     ]
    }
   ],
   "source": [
    "#If we list all the natural numbers below 10 that are multiples of 3 or 5, we get 3, 5, 6 and 9. The sum of these multiples is 23.Find the sum of all the multiples of 3 or 5 below 1000.\n",
    "#------------------------------------------------------------------------------------------------------------------------------------------------------------------------------------------\n",
    "x=1000\n",
    "sum=0\n",
    "for i in range(1,1000):\n",
    "    if i%3==0 or i%5==0:\n",
    "        sum+=i\n",
    "print(sum)\n",
    "    "
   ]
  },
  {
   "cell_type": "code",
   "execution_count": 9,
   "metadata": {},
   "outputs": [
    {
     "name": "stdout",
     "output_type": "stream",
     "text": [
      "4613732\n"
     ]
    }
   ],
   "source": [
    "'''Each new term in the Fibonacci sequence is generated by adding the previous two terms. By starting with 1 and 2, the first 10 terms will be:\n",
    "\n",
    "1, 2, 3, 5, 8, 13, 21, 34, 55, 89, ...\n",
    "\n",
    "By considering the terms in the Fibonacci sequence whose values do not exceed four million, find the sum of the even-valued terms.'''\n",
    "\n",
    "#-----------------------------------------------------------------------------------------------------------------------------------------------------------------------------\n",
    "sum=0\n",
    "first=0\n",
    "second=1\n",
    "next=1\n",
    "while(next<4000000):\n",
    "    first=second\n",
    "    second=next\n",
    "    next=first+second\n",
    "    if next%2==0:\n",
    "        sum+=next\n",
    "        \n",
    "print(sum)\n",
    "        "
   ]
  },
  {
   "cell_type": "code",
   "execution_count": 4,
   "metadata": {},
   "outputs": [
    {
     "name": "stdout",
     "output_type": "stream",
     "text": [
      "6857\n"
     ]
    }
   ],
   "source": [
    "'''The prime factors of 13195 are 5, 7, 13 and 29.\n",
    "\n",
    "What is the largest prime factor of the number 600851475143 ?'''\n",
    "\n",
    "#divide by half--------------------\n",
    "x=600851475143\n",
    "\n",
    "n=-1\n",
    "i=3\n",
    "while x%2==0:\n",
    "    x//=2\n",
    "    n=2\n",
    "\n",
    "while x!=1:\n",
    "    while x%i==0:\n",
    "        n=i\n",
    "        x/=i\n",
    "    i+=2\n",
    "\n",
    "print(n)    \n",
    "    \n",
    "    "
   ]
  },
  {
   "cell_type": "code",
   "execution_count": null,
   "metadata": {},
   "outputs": [],
   "source": [
    "'''A palindromic number reads the same both ways. The largest palindrome made from the product of two 2-digit numbers is 9009 = 91 × 99.\n",
    "\n",
    "Find the largest palindrome made from the product of two 3-digit numbers.'''\n",
    "rev=0\n",
    "r=0\n",
    "x=0\n",
    "for i in range(100,999):\n",
    "    for j in range(100,999):\n",
    "        n=i*j\n",
    "        org=n\n",
    "        while n>0:\n",
    "            r=n%10\n",
    "            rev=rev*10 +r\n",
    "            n//=10\n",
    "    \n",
    "        if rev==org:\n",
    "            if x>org:\n",
    "                x=org\n",
    "print(x)\n",
    "        \n",
    "\n"
   ]
  },
  {
   "cell_type": "code",
   "execution_count": 33,
   "metadata": {},
   "outputs": [
    {
     "name": "stdout",
     "output_type": "stream",
     "text": [
      "232792560\n"
     ]
    }
   ],
   "source": [
    "'''2520 is the smallest number that can be divided by each of the numbers from 1 to 10 without any remainder.\n",
    "\n",
    "What is the smallest positive number that is evenly divisible by all of the numbers from 1 to 20?'''\n",
    "x=10000000000\n",
    "for i in range(1000000000,1,-1):\n",
    "    if i%11==0 and i%12==0 and i%13==0 and i%14==0 and i%15==0 and i%16==0 and i%17==0 and i%18==0 and i%19==0 and i%20==0:\n",
    "        if x>i:\n",
    "            x=i\n",
    "print(x)  \n"
   ]
  },
  {
   "cell_type": "code",
   "execution_count": 3,
   "metadata": {},
   "outputs": [
    {
     "name": "stdin",
     "output_type": "stream",
     "text": [
      "Enter the name: ysh\n"
     ]
    },
    {
     "name": "stdout",
     "output_type": "stream",
     "text": [
      "['hari', 'shyam', 'ysh']\n"
     ]
    }
   ],
   "source": [
    "name=[]\n",
    "name=['hari','shyam']\n",
    "x=str(input(\"Enter the name:\"))\n",
    "name.append(x)\n",
    "print(name)"
   ]
  },
  {
   "cell_type": "code",
   "execution_count": 5,
   "metadata": {},
   "outputs": [
    {
     "name": "stdin",
     "output_type": "stream",
     "text": [
      "1.Find smallest number.\n",
      "2.Sort in ascending order.\n",
      "3.Do cyclic rotation for n times take n as input. 3\n"
     ]
    },
    {
     "name": "stdout",
     "output_type": "stream",
     "text": [
      "[2, 5, 8, 7, 6, 3, 4]\n"
     ]
    },
    {
     "name": "stdin",
     "output_type": "stream",
     "text": [
      "Enter the shifting value: 2\n"
     ]
    },
    {
     "name": "stdout",
     "output_type": "stream",
     "text": [
      "[4, 4, 4, 4, 4, 4, 4]\n"
     ]
    }
   ],
   "source": [
    "'''num=[2,5,8,7,6,3,4] \n",
    "1.Find smallest number.\n",
    "2.Sort in ascending order.\n",
    "3.Do cyclic rotation for n times take n as input.'''\n",
    "num=[2,5,8,7,6,3,4]\n",
    "num2=num\n",
    "choose = int(input(\"1.Find smallest number.\\n2.Sort in ascending order.\\n3.Do cyclic rotation for n times take n as input.\"))\n",
    "print(num2)\n",
    "min=num[0]\n",
    "if choose==1:\n",
    "    for i in range(len(num)):\n",
    "        if num[i]<min:\n",
    "            min=num[i]\n",
    "    print(min)\n",
    "if choose==2:\n",
    "    num.sort()\n",
    "    print(num)\n",
    "if choose==3:\n",
    "    n=int(input(\"Enter the shifting value:\"))\n",
    "   # num = num[n:] + num[:n]\n",
    "   # print(num)\n",
    "    for j in range(n):\n",
    "        num2[0]=num[len(num)-1]\n",
    "        \n",
    "        for i in range(0,len(num)-1,1):\n",
    "            num2[i+1]=num[i]\n",
    "   \n",
    "    print(num2) \n",
    "\n"
   ]
  },
  {
   "cell_type": "code",
   "execution_count": 36,
   "metadata": {},
   "outputs": [
    {
     "name": "stdout",
     "output_type": "stream",
     "text": [
      "25164150\n"
     ]
    }
   ],
   "source": [
    "'''The sum of the squares of the first ten natural numbers is,\n",
    "\n",
    "12 + 22 + ... + 102 = 385\n",
    "The square of the sum of the first ten natural numbers is,\n",
    "\n",
    "(1 + 2 + ... + 10)2 = 552 = 3025\n",
    "Hence the difference between the sum of the squares of the first ten natural numbers and the square of the sum is 3025 − 385 = 2640.\n",
    "\n",
    "Find the difference between the sum of the squares of the first one hundred natural numbers and the square of the sum.'''\n",
    "\n",
    "#===================================================================================================================================================\n",
    "sum1=0\n",
    "sum2=0\n",
    "for i in range(1,101):\n",
    "    sum1+=i\n",
    "    sum2+=(i*i)\n",
    "sum1=sum1*sum1\n",
    "print(sum1-sum2)\n",
    "    \n"
   ]
  },
  {
   "cell_type": "code",
   "execution_count": 1,
   "metadata": {},
   "outputs": [],
   "source": [
    "'''By listing the first six prime numbers: 2, 3, 5, 7, 11, and 13, we can see that the 6th prime is 13.\n",
    "\n",
    "What is the 10 001st prime number?'''\n",
    "#============================================================================================================\n",
    "\n",
    "count=1\n",
    "c=0\n",
    "for i in range(3,15,2):\n",
    "    for j in range(1,i):\n",
    "    \n",
    "        if i%j==0:\n",
    "            c+=1\n",
    "        \n",
    "    if c==2:\n",
    "        if count==6:\n",
    "            print(i)\n",
    "        count+=1\n"
   ]
  },
  {
   "cell_type": "code",
   "execution_count": 7,
   "metadata": {},
   "outputs": [
    {
     "name": "stdout",
     "output_type": "stream",
     "text": [
      "('x', 'y', 1, 2, 3)\n",
      "(('x', 'y'), (1, 2, 3), ('x', 'y', 1, 2, 3))\n"
     ]
    }
   ],
   "source": [
    "'''lab6 tuple----------------------------'''\n",
    "#============================================================================================\n",
    "#deceleration of tuple\n",
    "a=('x','y')\n",
    "b=(1,2,3)\n",
    "c=a+b\n",
    "print(c)\n",
    "#-----------------------------------------------------------------------------------------------\n",
    "d=('ashesh','alaka','wachas')\n",
    "z=(a,b,c)\n",
    "print(z)"
   ]
  },
  {
   "cell_type": "code",
   "execution_count": 14,
   "metadata": {},
   "outputs": [
    {
     "name": "stdin",
     "output_type": "stream",
     "text": [
      "Enter the index: 2\n"
     ]
    },
    {
     "ename": "TypeError",
     "evalue": "'int' object is not iterable",
     "output_type": "error",
     "traceback": [
      "\u001b[1;31m---------------------------------------------------------------------------\u001b[0m",
      "\u001b[1;31mTypeError\u001b[0m                                 Traceback (most recent call last)",
      "\u001b[1;32m<ipython-input-14-ea24b6130bff>\u001b[0m in \u001b[0;36m<module>\u001b[1;34m\u001b[0m\n\u001b[0;32m     11\u001b[0m \u001b[0mn\u001b[0m\u001b[1;33m=\u001b[0m\u001b[0mint\u001b[0m\u001b[1;33m(\u001b[0m\u001b[0minput\u001b[0m\u001b[1;33m(\u001b[0m\u001b[1;34m\"Enter the index:\"\u001b[0m\u001b[1;33m)\u001b[0m\u001b[1;33m)\u001b[0m\u001b[1;33m\u001b[0m\u001b[1;33m\u001b[0m\u001b[0m\n\u001b[0;32m     12\u001b[0m \u001b[1;32mif\u001b[0m \u001b[0mn\u001b[0m\u001b[1;33m<=\u001b[0m\u001b[0mlen\u001b[0m\u001b[1;33m(\u001b[0m\u001b[0mx\u001b[0m\u001b[1;33m)\u001b[0m\u001b[1;33m:\u001b[0m\u001b[1;33m\u001b[0m\u001b[1;33m\u001b[0m\u001b[0m\n\u001b[1;32m---> 13\u001b[1;33m     \u001b[1;32mfor\u001b[0m \u001b[0mi\u001b[0m \u001b[1;32min\u001b[0m \u001b[1;36m2\u001b[0m\u001b[1;33m:\u001b[0m\u001b[1;33m\u001b[0m\u001b[1;33m\u001b[0m\u001b[0m\n\u001b[0m\u001b[0;32m     14\u001b[0m         \u001b[0mprint\u001b[0m\u001b[1;33m(\u001b[0m\u001b[0mx\u001b[0m\u001b[1;33m)\u001b[0m\u001b[1;33m\u001b[0m\u001b[1;33m\u001b[0m\u001b[0m\n\u001b[0;32m     15\u001b[0m \u001b[1;33m\u001b[0m\u001b[0m\n",
      "\u001b[1;31mTypeError\u001b[0m: 'int' object is not iterable"
     ]
    }
   ],
   "source": [
    "'''Set----------------------------------------------------------------------it doesnt have index like'''\n",
    "\n",
    "'''\n",
    "[]->list\n",
    "()-> tuples\n",
    "{}-> sets\n",
    "'''\n",
    "#-----------------------------------------------------------------------------\n",
    "x={'a','b','c'}\n",
    "#print(x[0])=========>gives error\n",
    "n=int(input(\"Enter the index:\"))\n",
    "if n<=len(x):\n",
    "    for i in k:\n",
    "        print(x)\n",
    "        \n",
    "    "
   ]
  },
  {
   "cell_type": "code",
   "execution_count": null,
   "metadata": {},
   "outputs": [],
   "source": [
    "'''\n",
    "num=[5,8,9,7,3,4]\n",
    "1.Find the sum of prime numbers in list.\n",
    "2.Convert the num to set and tuples.\n",
    "'''\n",
    "\n",
    "    \n",
    "        \n",
    "\n",
    "sum=0    \n",
    "num = [5,8,9,7,3,4]\n",
    "\n",
    "temp1=()\n",
    "temp2={}\n",
    "\n",
    "choose=int(input(\"1.Find the sum of prime numbers in list.\\n2.Convert the num to set.\\n3.Convert the num to tuples\\n:=>\"))\n",
    "if choose==1:\n",
    "    for i in range(len(num)):\n",
    "        c=0\n",
    "        for j in range(1,num[i]+1):\n",
    "            if (num[i])%j==0:\n",
    "                c+=1\n",
    "            \n",
    "        if c==2:\n",
    "            sum+=num[i]\n",
    "        \n",
    "    print(\"Sum:=>\"+str(sum))\n",
    "if choose==2:\n",
    "    print(tuple(num))\n",
    "if choose==3:\n",
    "    print(set(num))\n",
    "    \n",
    "        "
   ]
  },
  {
   "cell_type": "code",
   "execution_count": null,
   "metadata": {},
   "outputs": [],
   "source": [
    "# '''\n",
    "programme to calculate the bill of the restaurant\n",
    "'''\n",
    "# These are two dictionaries that hold the information about the menu\n",
    "menuMap = {'1':'momo', '2':'chowmein', '3':'tea'}\n",
    "menu = {'momo':100, 'chowmein':150, 'tea':50}\n",
    "\n",
    "def printMenu():\n",
    "    '''\n",
    "    Thiw will display the menu in the top to allow the user not to mistake duing the menu entry\n",
    "    '''\n",
    "    first = True\n",
    "    i = 0\n",
    "    for menuItem in menu.keys():\n",
    "        i+=1\n",
    "        if not first:\n",
    "            print(\",\", end='')\n",
    "\n",
    "        print(\"{id}. menuItem \".format(id=i), end='')\n",
    "        first = False\n",
    "\n",
    "\n",
    "\n",
    "def addOrder():\n",
    "    order=[]\n",
    "\tcont = True\n",
    "\twhile cont:\n",
    "\t\torder.append(input(\"Costumer order\"))\n",
    "\t\tcheck = input(\"\\nDo you want to continue ? (y/n): \")\n",
    "\t\tcont = (check == 'y')\n",
    "\t\tpass\n",
    "\treturn order\n",
    "\n",
    "def caluclateTotal(myOrders):\n",
    "\tprint(\"\\n\\n\\t\\tCash Bill\\n\")\n",
    "\ttotalBilled = 0\n",
    "\tfor mOrder in myOrders:\n",
    "\t\tprint(menuMap[mOrder]+\"\\t\\tRs.\" +str(menu[menuMap[mOrder]]))\n",
    "\t\ttotalBilled += menu[menuMap[mOrder]]\n",
    "\n",
    "\tprint(\"\\n------------------------------------------------\")\n",
    "\tprint(\"Your total bill amount = Rs.{}\".format(totalBilled))\n",
    "\tvat = totalBilled*0.13\n",
    "\tserviceCharge = (totalBilled+vat)*0.25\n",
    "\tprint(\"\\t\\tVAT(13%) = Rs.\"+str(vat))\n",
    "\tprint(\"\\t\\tService charge(25%) = Rs.\" + str(serviceCharge))\n",
    "\n",
    "\tprint(\"\\t\\tTotal = Rs.\"+ str(totalBilled+vat+serviceCharge)+ \"\\n\\n\")\n",
    "\n",
    "\n",
    "print(\"\\t\\tBroadWay restaurant\\t\\t\")\n",
    "print(\"\\n.............................................\")\n",
    "printMenu()\n",
    "input(\"\\n\\nPress any key to continue.\")\n",
    "order = addOrder()\t\t\n",
    "caluclateTotal(order)"
   ]
  },
  {
   "cell_type": "markdown",
   "metadata": {},
   "source": [
    " "
   ]
  }
 ],
 "metadata": {
  "kernelspec": {
   "display_name": "Python 3",
   "language": "python",
   "name": "python3"
  },
  "language_info": {
   "codemirror_mode": {
    "name": "ipython",
    "version": 3
   },
   "file_extension": ".py",
   "mimetype": "text/x-python",
   "name": "python",
   "nbconvert_exporter": "python",
   "pygments_lexer": "ipython3",
   "version": "3.7.1"
  }
 },
 "nbformat": 4,
 "nbformat_minor": 2
}
