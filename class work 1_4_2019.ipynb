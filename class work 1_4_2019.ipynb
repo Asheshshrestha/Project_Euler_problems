{
 "cells": [
  {
   "cell_type": "code",
   "execution_count": 4,
   "metadata": {},
   "outputs": [
    {
     "name": "stdout",
     "output_type": "stream",
     "text": [
      "{'id': '1', 'roll': '20', 'phone': '9862920744'}\n"
     ]
    }
   ],
   "source": [
    "#convert any type (list, set)into dict\n",
    "\n",
    "key=(\"id\",\"roll\",\"phone\")\n",
    "value=(\"1\",\"20\",\"9862920744\")\n",
    "a=dict(zip(key,value))\n",
    "\n",
    "print(a)\n"
   ]
  },
  {
   "cell_type": "code",
   "execution_count": null,
   "metadata": {},
   "outputs": [],
   "source": []
  }
 ],
 "metadata": {
  "kernelspec": {
   "display_name": "Python 3",
   "language": "python",
   "name": "python3"
  },
  "language_info": {
   "codemirror_mode": {
    "name": "ipython",
    "version": 3
   },
   "file_extension": ".py",
   "mimetype": "text/x-python",
   "name": "python",
   "nbconvert_exporter": "python",
   "pygments_lexer": "ipython3",
   "version": "3.7.1"
  }
 },
 "nbformat": 4,
 "nbformat_minor": 2
}
