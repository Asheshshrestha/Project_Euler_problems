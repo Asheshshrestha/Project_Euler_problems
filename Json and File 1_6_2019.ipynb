{
 "cells": [
  {
   "cell_type": "code",
   "execution_count": 12,
   "metadata": {},
   "outputs": [
    {
     "name": "stdout",
     "output_type": "stream",
     "text": [
      "i am ashesh\n",
      "HI i am learing files\n",
      "HI i am learing files i am ashesh\n",
      "HI i am learing files i am ashesh\n"
     ]
    }
   ],
   "source": [
    "#-------------------------------------------------------------------------------------------\n",
    "#------------------------------Json and File----------------------------------------------\n",
    "#------------------------------------------------------------------------------------------\n",
    "\n",
    "'''File->Two things\n",
    "    ->file location(path)\n",
    "    ->mode--->it is basically three types\n",
    "               -->read ->For write only\n",
    "               -->write ->Write the file from begining(erase all previous data)\n",
    "               -->append ->add more data \n",
    "/////syntax to open file\n",
    "file = open(<file_path>,<mode>)\n",
    "    \n",
    "'''\n",
    "data=\"i am ashesh\"\n",
    "file=open('test.txt','w')# create file or open file in write mode\n",
    "file.write(data)\n",
    "file.close()\n",
    "\n",
    "file = open('test.txt','r')# to open in read mode, created file\n",
    "print(file.read())\n",
    "file.close()\n",
    "\n",
    "\n",
    "file=open('test.txt','w') # to open file in write mode\n",
    "file.write(\"HI i am learing files\")\n",
    "file.close()\n",
    "\n",
    "file = open('test.txt','r')# to open in read mode, created file\n",
    "print(file.read())\n",
    "file.close()\n",
    "\n",
    "file= open('test.txt','a')\n",
    "file.write(\" i am ashesh\")\n",
    "file.close()\n",
    "\n",
    "file = open('test.txt','r')# to open in read mode, created file\n",
    "print(file.read())\n",
    "file.close()\n",
    "\n",
    "# to close file auto using with \n",
    "\n",
    "with open('test.txt','r') as file:# it doesnot need file.close() it automatically close the file \n",
    "    print(file.read())\n",
    "\n",
    "\n",
    "    \n",
    "#---------------------------------------------------------------------------------------------------------\n",
    "#-------------------------------Json ----------------------------------------------------------------\n",
    "#---------------------------------------------------------------------------------------------------------\n",
    "    \n",
    "\n",
    "    \n",
    "    \n",
    "    \n",
    "    \n",
    "    "
   ]
  },
  {
   "cell_type": "code",
   "execution_count": null,
   "metadata": {},
   "outputs": [],
   "source": []
  },
  {
   "cell_type": "code",
   "execution_count": null,
   "metadata": {},
   "outputs": [],
   "source": []
  }
 ],
 "metadata": {
  "kernelspec": {
   "display_name": "Python 3",
   "language": "python",
   "name": "python3"
  },
  "language_info": {
   "codemirror_mode": {
    "name": "ipython",
    "version": 3
   },
   "file_extension": ".py",
   "mimetype": "text/x-python",
   "name": "python",
   "nbconvert_exporter": "python",
   "pygments_lexer": "ipython3",
   "version": "3.7.1"
  }
 },
 "nbformat": 4,
 "nbformat_minor": 2
}
