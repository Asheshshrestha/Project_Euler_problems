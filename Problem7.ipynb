{
 "cells": [
  {
   "cell_type": "code",
   "execution_count": null,
   "metadata": {},
   "outputs": [],
   "source": [
    "'''By listing the first six prime numbers: 2, 3, 5, 7, 11, and 13, we can see that the 6th prime is 13.\n",
    "\n",
    "What is the 10 001st prime number?'''\n",
    "#============================================================================================================\n",
    "# Compiled by Ashesh Shrestha\n",
    "#-------------------------------------------------------------------------------------------------------\n",
    "n=0\n",
    "c=0\n",
    "print(\"hell\")\n",
    "while n<=6:\n",
    "    for i in range(1,20,2):\n",
    "        for j in range(1,i):\n",
    "            if i%j==0:\n",
    "                c+=1\n",
    "                if c>2:\n",
    "                    break\n",
    "                if c==2:\n",
    "                    n+=1\n",
    "                \n",
    "print(i)                \n",
    "    \n",
    "\n",
    "\n"
   ]
  },
  {
   "cell_type": "code",
   "execution_count": null,
   "metadata": {},
   "outputs": [],
   "source": []
  },
  {
   "cell_type": "code",
   "execution_count": null,
   "metadata": {},
   "outputs": [],
   "source": []
  },
  {
   "cell_type": "code",
   "execution_count": null,
   "metadata": {},
   "outputs": [],
   "source": []
  }
 ],
 "metadata": {
  "kernelspec": {
   "display_name": "Python 3",
   "language": "python",
   "name": "python3"
  }
 },
 "nbformat": 4,
 "nbformat_minor": 2
}
